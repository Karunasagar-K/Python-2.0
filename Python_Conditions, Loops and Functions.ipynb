{
 "cells": [
  {
   "cell_type": "markdown",
   "id": "90590412",
   "metadata": {},
   "source": [
    "## CONDITION"
   ]
  },
  {
   "cell_type": "code",
   "execution_count": 91,
   "id": "37e792f1",
   "metadata": {},
   "outputs": [
    {
     "data": {
      "text/plain": [
       "False"
      ]
     },
     "execution_count": 91,
     "metadata": {},
     "output_type": "execute_result"
    }
   ],
   "source": [
    "# Condition Equal\n",
    "\n",
    "a = 5\n",
    "a == 6"
   ]
  },
  {
   "cell_type": "code",
   "execution_count": 92,
   "id": "c64a1db2",
   "metadata": {},
   "outputs": [
    {
     "data": {
      "text/plain": [
       "True"
      ]
     },
     "execution_count": 92,
     "metadata": {},
     "output_type": "execute_result"
    }
   ],
   "source": [
    "# Greater than Sign\n",
    "\n",
    "i = 6\n",
    "i > 5"
   ]
  },
  {
   "cell_type": "code",
   "execution_count": 93,
   "id": "2349aded",
   "metadata": {},
   "outputs": [
    {
     "data": {
      "text/plain": [
       "False"
      ]
     },
     "execution_count": 93,
     "metadata": {},
     "output_type": "execute_result"
    }
   ],
   "source": [
    "# Greater than Sign\n",
    "\n",
    "i = 2\n",
    "i > 5"
   ]
  },
  {
   "cell_type": "code",
   "execution_count": 94,
   "id": "1ac56784",
   "metadata": {},
   "outputs": [
    {
     "data": {
      "text/plain": [
       "True"
      ]
     },
     "execution_count": 94,
     "metadata": {},
     "output_type": "execute_result"
    }
   ],
   "source": [
    "# Inequality Sign\n",
    "\n",
    "i = 2\n",
    "i != 6"
   ]
  },
  {
   "cell_type": "code",
   "execution_count": 95,
   "id": "16f08a4e",
   "metadata": {},
   "outputs": [
    {
     "data": {
      "text/plain": [
       "False"
      ]
     },
     "execution_count": 95,
     "metadata": {},
     "output_type": "execute_result"
    }
   ],
   "source": [
    "# Inequality Sign\n",
    "\n",
    "i = 6\n",
    "i != 6"
   ]
  },
  {
   "cell_type": "code",
   "execution_count": 96,
   "id": "a42fe5a8",
   "metadata": {},
   "outputs": [
    {
     "data": {
      "text/plain": [
       "False"
      ]
     },
     "execution_count": 96,
     "metadata": {},
     "output_type": "execute_result"
    }
   ],
   "source": [
    "# Use Equality sign to compare the strings\n",
    "\n",
    "\"ACDC\" == \"Michael Jackson\"\n",
    "\n"
   ]
  },
  {
   "cell_type": "code",
   "execution_count": 97,
   "id": "cb37bd2b",
   "metadata": {},
   "outputs": [
    {
     "data": {
      "text/plain": [
       "True"
      ]
     },
     "execution_count": 97,
     "metadata": {},
     "output_type": "execute_result"
    }
   ],
   "source": [
    "# Use Inequality sign to compare the strings\n",
    "\n",
    "\"ACDC\" != \"Michael Jackson\""
   ]
  },
  {
   "cell_type": "code",
   "execution_count": 98,
   "id": "2e7596be",
   "metadata": {},
   "outputs": [
    {
     "data": {
      "text/plain": [
       "True"
      ]
     },
     "execution_count": 98,
     "metadata": {},
     "output_type": "execute_result"
    }
   ],
   "source": [
    "# Compare characters\n",
    "\n",
    "'B' > 'A'"
   ]
  },
  {
   "cell_type": "code",
   "execution_count": 99,
   "id": "d2cf80db",
   "metadata": {},
   "outputs": [
    {
     "data": {
      "text/plain": [
       "True"
      ]
     },
     "execution_count": 99,
     "metadata": {},
     "output_type": "execute_result"
    }
   ],
   "source": [
    "# Compare characters\n",
    "\n",
    "'BA' > 'AB'"
   ]
  },
  {
   "cell_type": "code",
   "execution_count": 101,
   "id": "8441e4bb",
   "metadata": {},
   "outputs": [
    {
     "name": "stdout",
     "output_type": "stream",
     "text": [
      "you can enter\n",
      "move on\n"
     ]
    }
   ],
   "source": [
    "# If statement example\n",
    "\n",
    "age = 19\n",
    "#age = 18\n",
    "\n",
    "#expression that can be true or false\n",
    "if age > 18:\n",
    "    \n",
    "    #within an indent, we have the expression that is run if the condition is true\n",
    "    print(\"you can enter\" )\n",
    "\n",
    "#The statements after the if statement will run regardless if the condition is true or false \n",
    "print(\"move on\")"
   ]
  },
  {
   "cell_type": "code",
   "execution_count": 102,
   "id": "420ce98c",
   "metadata": {},
   "outputs": [
    {
     "name": "stdout",
     "output_type": "stream",
     "text": [
      "go see Meat Loaf\n",
      "move on\n"
     ]
    }
   ],
   "source": [
    "# Else statement example\n",
    "\n",
    "age = 18\n",
    "#age = 19\n",
    "\n",
    "if age > 18:\n",
    "    print(\"you can enter\" )\n",
    "else:\n",
    "    print(\"go see Meat Loaf\" )\n",
    "    \n",
    "print(\"move on\")"
   ]
  },
  {
   "cell_type": "code",
   "execution_count": 103,
   "id": "ce0c4657",
   "metadata": {},
   "outputs": [
    {
     "name": "stdout",
     "output_type": "stream",
     "text": [
      "go see Pink Floyd\n",
      "move on\n"
     ]
    }
   ],
   "source": [
    "# Elif statment example\n",
    "\n",
    "age = 18\n",
    "\n",
    "if age > 18:\n",
    "    print(\"you can enter\" )\n",
    "elif age == 18:\n",
    "    print(\"go see Pink Floyd\")\n",
    "else:\n",
    "    print(\"go see Meat Loaf\" )\n",
    "    \n",
    "print(\"move on\")"
   ]
  },
  {
   "cell_type": "code",
   "execution_count": 112,
   "id": "5c4becc1",
   "metadata": {},
   "outputs": [
    {
     "name": "stdout",
     "output_type": "stream",
     "text": [
      "Album year is greater than 1980\n",
      "do something..\n"
     ]
    }
   ],
   "source": [
    "# Condition statement example\n",
    "\n",
    "album_year = 1983\n",
    "#album_year = 1970\n",
    "\n",
    "if album_year > 1980:\n",
    "    print(\"Album year is greater than 1980\")\n",
    "    \n",
    "print('do something..')"
   ]
  },
  {
   "cell_type": "code",
   "execution_count": 105,
   "id": "d2313485",
   "metadata": {},
   "outputs": [
    {
     "name": "stdout",
     "output_type": "stream",
     "text": [
      "Album year is greater than 1980\n",
      "do something..\n"
     ]
    }
   ],
   "source": [
    "# Condition statement example\n",
    "\n",
    "album_year = 1983\n",
    "#album_year = 1970\n",
    "\n",
    "if album_year > 1980:\n",
    "    print(\"Album year is greater than 1980\")\n",
    "else:\n",
    "    print(\"less than 1980\")\n",
    "\n",
    "print('do something..')"
   ]
  },
  {
   "cell_type": "code",
   "execution_count": 106,
   "id": "f1d5afd3",
   "metadata": {},
   "outputs": [
    {
     "name": "stdout",
     "output_type": "stream",
     "text": [
      "Album year was in between 1980 and 1989\n",
      "\n",
      "Do Stuff..\n"
     ]
    }
   ],
   "source": [
    "# Condition statement example\n",
    "\n",
    "album_year = 1980\n",
    "\n",
    "if(album_year > 1979) and (album_year < 1990):\n",
    "    print (\"Album year was in between 1980 and 1989\")\n",
    "    \n",
    "print(\"\")\n",
    "print( \"Do Stuff..\")"
   ]
  },
  {
   "cell_type": "code",
   "execution_count": 113,
   "id": "39ca5b20",
   "metadata": {},
   "outputs": [
    {
     "name": "stdout",
     "output_type": "stream",
     "text": [
      "Album was not made in the 1980's\n"
     ]
    }
   ],
   "source": [
    "# Condition statement example\n",
    "\n",
    "album_year = 1990\n",
    "\n",
    "if(album_year < 1980) or (album_year > 1989):\n",
    "    print (\"Album was not made in the 1980's\")\n",
    "else:\n",
    "    print(\"The Album was made in the 1980's \")"
   ]
  },
  {
   "cell_type": "code",
   "execution_count": 114,
   "id": "b50981cc",
   "metadata": {},
   "outputs": [
    {
     "name": "stdout",
     "output_type": "stream",
     "text": [
      "Album year is not 1984\n"
     ]
    }
   ],
   "source": [
    "# Condition statement example\n",
    "\n",
    "album_year = 1983\n",
    "\n",
    "if not (album_year == 1984):\n",
    "    print (\"Album year is not 1984\")"
   ]
  },
  {
   "cell_type": "code",
   "execution_count": 115,
   "id": "f0361c88",
   "metadata": {},
   "outputs": [
    {
     "name": "stdout",
     "output_type": "stream",
     "text": [
      "This album is amazing\n"
     ]
    }
   ],
   "source": [
    "# Write your code below and press Shift+Enter to execute\n",
    "rating = 8.5\n",
    "\n",
    "if rating > 8:\n",
    "    print('This album is amazing')"
   ]
  },
  {
   "cell_type": "code",
   "execution_count": 110,
   "id": "aa40340a",
   "metadata": {},
   "outputs": [
    {
     "name": "stdout",
     "output_type": "stream",
     "text": [
      "This album is amazing\n"
     ]
    }
   ],
   "source": [
    "# Write your code below and press Shift+Enter to execute\n",
    "rating = 8.5\n",
    "if rating > 8:\n",
    "    print('This album is amazing')\n",
    "else:\n",
    "    print('this album is ok')"
   ]
  },
  {
   "cell_type": "code",
   "execution_count": 111,
   "id": "c45fa0ea",
   "metadata": {},
   "outputs": [
    {
     "name": "stdout",
     "output_type": "stream",
     "text": [
      "the album came out in the year 1979\n"
     ]
    }
   ],
   "source": [
    "# Write your code below and press Shift+Enter to execute\n",
    "album_year = 1979\n",
    "\n",
    "if album_year < 1980 or album_year == 1991  or album_year == 1993:\n",
    "    print('the album came out in the year',album_year)"
   ]
  },
  {
   "cell_type": "markdown",
   "id": "57b421cb",
   "metadata": {},
   "source": [
    "## Loops"
   ]
  },
  {
   "cell_type": "markdown",
   "id": "cf53d120",
   "metadata": {},
   "source": [
    "### for loop"
   ]
  },
  {
   "cell_type": "code",
   "execution_count": 116,
   "id": "38d829fb",
   "metadata": {},
   "outputs": [
    {
     "data": {
      "text/plain": [
       "range(0, 3)"
      ]
     },
     "execution_count": 116,
     "metadata": {},
     "output_type": "execute_result"
    }
   ],
   "source": [
    "range(3)"
   ]
  },
  {
   "cell_type": "code",
   "execution_count": 2,
   "id": "3c5a3974",
   "metadata": {},
   "outputs": [
    {
     "name": "stdout",
     "output_type": "stream",
     "text": [
      "1982\n",
      "1980\n",
      "1973\n"
     ]
    }
   ],
   "source": [
    "#For loop example\n",
    "\n",
    "dates = [1982,1980,1973]\n",
    "N = len(dates)\n",
    "\n",
    "for i in range(N):\n",
    "    print (dates[i])"
   ]
  },
  {
   "cell_type": "code",
   "execution_count": 119,
   "id": "0e54060a",
   "metadata": {},
   "outputs": [
    {
     "name": "stdout",
     "output_type": "stream",
     "text": [
      "0\n",
      "1\n",
      "2\n",
      "3\n",
      "4\n",
      "5\n",
      "6\n",
      "7\n"
     ]
    }
   ],
   "source": [
    "# Example of for loop\n",
    "\n",
    "for i in range(0, 8):\n",
    "    print(i)"
   ]
  },
  {
   "cell_type": "code",
   "execution_count": 120,
   "id": "7116219e",
   "metadata": {},
   "outputs": [
    {
     "name": "stdout",
     "output_type": "stream",
     "text": [
      "1982\n",
      "1980\n",
      "1973\n"
     ]
    }
   ],
   "source": [
    "# Exmaple of for loop, loop through list\n",
    "\n",
    "for year in dates:  \n",
    "    print(year)  "
   ]
  },
  {
   "cell_type": "code",
   "execution_count": 124,
   "id": "3480a32c",
   "metadata": {},
   "outputs": [
    {
     "name": "stdout",
     "output_type": "stream",
     "text": [
      "Before square  0 is red\n",
      "After square  0 is white\n",
      "Before square  1 is yellow\n",
      "After square  1 is white\n",
      "Before square  2 is green\n",
      "After square  2 is white\n",
      "Before square  3 is purple\n",
      "After square  3 is white\n",
      "Before square  4 is blue\n",
      "After square  4 is white\n"
     ]
    }
   ],
   "source": [
    "# Use for loop to change the elements in list\n",
    "\n",
    "squares = ['red', 'yellow', 'green', 'purple', 'blue']\n",
    "\n",
    "for i in range(0, 5):\n",
    "    print(\"Before square \", i, 'is',  squares[i])\n",
    "    squares[i] = 'white'\n",
    "    print(\"After square \", i, 'is',  squares[i])"
   ]
  },
  {
   "cell_type": "code",
   "execution_count": 126,
   "id": "4faf4300",
   "metadata": {},
   "outputs": [
    {
     "name": "stdout",
     "output_type": "stream",
     "text": [
      "0 red\n",
      "1 yellow\n",
      "2 green\n",
      "3 purple\n",
      "4 blue\n"
     ]
    }
   ],
   "source": [
    "# Loop through the list and iterate on both index and element value\n",
    "\n",
    "squares=['red', 'yellow', 'green', 'purple', 'blue']\n",
    "\n",
    "for i, u in enumerate(squares):\n",
    "    print(i, u)"
   ]
  },
  {
   "cell_type": "markdown",
   "id": "3ba62e6d",
   "metadata": {},
   "source": [
    "### While Loop"
   ]
  },
  {
   "cell_type": "code",
   "execution_count": 127,
   "id": "b19d2a4e",
   "metadata": {},
   "outputs": [
    {
     "name": "stdout",
     "output_type": "stream",
     "text": [
      "1982\n",
      "1980\n",
      "It took  2 repetitions to get out of loop.\n"
     ]
    }
   ],
   "source": [
    "# While Loop Example\n",
    "\n",
    "dates = [1982, 1980, 1973, 2000]\n",
    "\n",
    "i = 0\n",
    "year = dates[0]\n",
    "\n",
    "while(year != 1973):    \n",
    "    print(year)\n",
    "    i = i + 1\n",
    "    year = dates[i]\n",
    "    \n",
    "\n",
    "print(\"It took \", i ,\"repetitions to get out of loop.\")"
   ]
  },
  {
   "cell_type": "code",
   "execution_count": 128,
   "id": "b8d7ff49",
   "metadata": {},
   "outputs": [
    {
     "name": "stdout",
     "output_type": "stream",
     "text": [
      "-5\n",
      "-4\n",
      "-3\n",
      "-2\n",
      "-1\n",
      "0\n",
      "1\n",
      "2\n",
      "3\n",
      "4\n",
      "5\n"
     ]
    }
   ],
   "source": [
    "# Write your code below and press Shift+Enter to execute\n",
    "for i in range(-5,6):\n",
    "    print(i)"
   ]
  },
  {
   "cell_type": "code",
   "execution_count": 129,
   "id": "00ef60a8",
   "metadata": {},
   "outputs": [
    {
     "name": "stdout",
     "output_type": "stream",
     "text": [
      "rock\n",
      "R&B\n",
      "Soundtrack\n",
      "R&B\n",
      "soul\n",
      "pop\n"
     ]
    }
   ],
   "source": [
    "# Write your code below and press Shift+Enter to execute\n",
    "Genres = ['rock','R&B','Soundtrack','R&B','soul','pop']\n",
    "\n",
    "for h in Genres:\n",
    "    print (h)"
   ]
  },
  {
   "cell_type": "code",
   "execution_count": 134,
   "id": "f13d0e8e",
   "metadata": {},
   "outputs": [
    {
     "name": "stdout",
     "output_type": "stream",
     "text": [
      "red\n",
      "yellow\n",
      "green\n",
      "purple\n",
      "blue\n"
     ]
    }
   ],
   "source": [
    "# Write your code below and press Shift+Enter to execute\n",
    "squares=['red', 'yellow', 'green', 'purple', 'blue']\n",
    "\n",
    "for square in squares:\n",
    "    print(square)"
   ]
  },
  {
   "cell_type": "code",
   "execution_count": 135,
   "id": "c3f30dd3",
   "metadata": {},
   "outputs": [
    {
     "name": "stdout",
     "output_type": "stream",
     "text": [
      "10\n",
      "9.5\n",
      "10\n",
      "8\n",
      "7.5\n"
     ]
    }
   ],
   "source": [
    "# Write your code below and press Shift+Enter to execute\n",
    "PlayListRatings = [10, 9.5, 10, 8, 7.5, 5, 10, 10]\n",
    "\n",
    "i=0\n",
    "rating = PlayListRatings[0]\n",
    "\n",
    "while  (i < len(PlayListRatings) and rating >= 6):\n",
    "    print(rating)\n",
    "    i=i+1\n",
    "    rating = PlayListRatings[i]"
   ]
  },
  {
   "cell_type": "code",
   "execution_count": 136,
   "id": "ee320cfe",
   "metadata": {},
   "outputs": [],
   "source": [
    "# Write your code below and press Shift+Enter to execute\n",
    "\n",
    "squares = ['orange', 'orange', 'purple', 'blue ', 'orange']\n",
    "new_squares = []\n"
   ]
  },
  {
   "cell_type": "markdown",
   "id": "16f4d726",
   "metadata": {},
   "source": [
    "## Functions"
   ]
  },
  {
   "cell_type": "code",
   "execution_count": 137,
   "id": "74104ae7",
   "metadata": {},
   "outputs": [],
   "source": [
    "# First function example: Add 1 to a and store as b\n",
    "\n",
    "def add(a):\n",
    "    \"\"\"\n",
    "    add 1 to a\n",
    "    \"\"\"\n",
    "    b = a + 1\n",
    "    print(a, \"if you add one\", b)\n",
    "    return(b)"
   ]
  },
  {
   "cell_type": "code",
   "execution_count": 139,
   "id": "f443b464",
   "metadata": {},
   "outputs": [
    {
     "name": "stdout",
     "output_type": "stream",
     "text": [
      "Help on function add in module __main__:\n",
      "\n",
      "add(a)\n",
      "    add 1 to a\n",
      "\n"
     ]
    }
   ],
   "source": [
    "help(add)"
   ]
  },
  {
   "cell_type": "code",
   "execution_count": 138,
   "id": "91cc0e67",
   "metadata": {},
   "outputs": [
    {
     "name": "stdout",
     "output_type": "stream",
     "text": [
      "1 if you add one 2\n"
     ]
    },
    {
     "data": {
      "text/plain": [
       "2"
      ]
     },
     "execution_count": 138,
     "metadata": {},
     "output_type": "execute_result"
    }
   ],
   "source": [
    "add(1)"
   ]
  },
  {
   "cell_type": "code",
   "execution_count": 140,
   "id": "8e97e3ff",
   "metadata": {},
   "outputs": [
    {
     "name": "stdout",
     "output_type": "stream",
     "text": [
      "2 if you add one 3\n"
     ]
    },
    {
     "data": {
      "text/plain": [
       "3"
      ]
     },
     "execution_count": 140,
     "metadata": {},
     "output_type": "execute_result"
    }
   ],
   "source": [
    "add(2)"
   ]
  },
  {
   "cell_type": "code",
   "execution_count": 141,
   "id": "8f7c3177",
   "metadata": {},
   "outputs": [
    {
     "name": "stdout",
     "output_type": "stream",
     "text": [
      "24\n"
     ]
    }
   ],
   "source": [
    "# Define a function for multiple two numbers\n",
    "\n",
    "def Mult(a, b):\n",
    "    c = a * b\n",
    "    return(c)\n",
    "    print('This is not printed')\n",
    "    \n",
    "result = Mult(12,2)\n",
    "print(result)"
   ]
  },
  {
   "cell_type": "code",
   "execution_count": 142,
   "id": "d4a09e9b",
   "metadata": {},
   "outputs": [
    {
     "data": {
      "text/plain": [
       "6"
      ]
     },
     "execution_count": 142,
     "metadata": {},
     "output_type": "execute_result"
    }
   ],
   "source": [
    "# Use mult() multiply two integers\n",
    "\n",
    "Mult(2, 3)"
   ]
  },
  {
   "cell_type": "code",
   "execution_count": 143,
   "id": "233a723f",
   "metadata": {},
   "outputs": [
    {
     "data": {
      "text/plain": [
       "31.400000000000002"
      ]
     },
     "execution_count": 143,
     "metadata": {},
     "output_type": "execute_result"
    }
   ],
   "source": [
    "# Use mult() multiply two floats\n",
    "\n",
    "Mult(10.0, 3.14)"
   ]
  },
  {
   "cell_type": "code",
   "execution_count": 144,
   "id": "59db432b",
   "metadata": {},
   "outputs": [
    {
     "data": {
      "text/plain": [
       "'Michael Jackson Michael Jackson '"
      ]
     },
     "execution_count": 144,
     "metadata": {},
     "output_type": "execute_result"
    }
   ],
   "source": [
    "# Use mult() multiply two different type values together\n",
    "\n",
    "Mult(2, \"Michael Jackson \")"
   ]
  },
  {
   "cell_type": "markdown",
   "id": "7d0e9ab0",
   "metadata": {},
   "source": [
    "### Variables"
   ]
  },
  {
   "cell_type": "code",
   "execution_count": 145,
   "id": "28a7fae1",
   "metadata": {},
   "outputs": [],
   "source": [
    "# Function Definition\n",
    "\n",
    "def square(a):\n",
    "    \n",
    "    # Local variable b\n",
    "    b = 1\n",
    "    c = a * a + b\n",
    "    print(a, \"if you square + 1\", c) \n",
    "    return(c)"
   ]
  },
  {
   "cell_type": "code",
   "execution_count": 146,
   "id": "f0fffcad",
   "metadata": {},
   "outputs": [
    {
     "name": "stdout",
     "output_type": "stream",
     "text": [
      "3 if you square + 1 10\n"
     ]
    },
    {
     "data": {
      "text/plain": [
       "10"
      ]
     },
     "execution_count": 146,
     "metadata": {},
     "output_type": "execute_result"
    }
   ],
   "source": [
    "# Initializes Global variable  \n",
    "\n",
    "x = 3\n",
    "# Makes function call and return function a y\n",
    "y = square(x)\n",
    "y"
   ]
  },
  {
   "cell_type": "code",
   "execution_count": 147,
   "id": "b37e0438",
   "metadata": {},
   "outputs": [
    {
     "name": "stdout",
     "output_type": "stream",
     "text": [
      "2 if you square + 1 5\n"
     ]
    },
    {
     "data": {
      "text/plain": [
       "5"
      ]
     },
     "execution_count": 147,
     "metadata": {},
     "output_type": "execute_result"
    }
   ],
   "source": [
    "# Directly enter a number as parameter\n",
    "\n",
    "square(2)"
   ]
  },
  {
   "cell_type": "code",
   "execution_count": 148,
   "id": "1431448a",
   "metadata": {},
   "outputs": [],
   "source": [
    "# Define functions, one with return value None and other without return value\n",
    "\n",
    "def MJ():\n",
    "    print('Michael Jackson')\n",
    "    \n",
    "def MJ1():\n",
    "    print('Michael Jackson')\n",
    "    return(None)"
   ]
  },
  {
   "cell_type": "code",
   "execution_count": 150,
   "id": "29e36cc2",
   "metadata": {},
   "outputs": [
    {
     "name": "stdout",
     "output_type": "stream",
     "text": [
      "Michael Jackson\n"
     ]
    }
   ],
   "source": [
    "MJ()"
   ]
  },
  {
   "cell_type": "code",
   "execution_count": 151,
   "id": "60507bc7",
   "metadata": {},
   "outputs": [
    {
     "name": "stdout",
     "output_type": "stream",
     "text": [
      "Michael Jackson\n"
     ]
    }
   ],
   "source": [
    "MJ1()"
   ]
  },
  {
   "cell_type": "code",
   "execution_count": 152,
   "id": "4fb1a288",
   "metadata": {},
   "outputs": [
    {
     "name": "stdout",
     "output_type": "stream",
     "text": [
      "Michael Jackson\n",
      "None\n",
      "Michael Jackson\n",
      "None\n"
     ]
    }
   ],
   "source": [
    "# See what functions returns are\n",
    "\n",
    "print(MJ())\n",
    "print(MJ1())"
   ]
  },
  {
   "cell_type": "code",
   "execution_count": 153,
   "id": "43589923",
   "metadata": {},
   "outputs": [],
   "source": [
    "# Define the function for combining strings\n",
    "\n",
    "def con(a, b):\n",
    "    return(a + b)"
   ]
  },
  {
   "cell_type": "code",
   "execution_count": 154,
   "id": "055fe818",
   "metadata": {},
   "outputs": [
    {
     "data": {
      "text/plain": [
       "'This is'"
      ]
     },
     "execution_count": 154,
     "metadata": {},
     "output_type": "execute_result"
    }
   ],
   "source": [
    "# Test on the con() function\n",
    "\n",
    "con(\"This \", \"is\")"
   ]
  },
  {
   "cell_type": "markdown",
   "id": "b0c646b8",
   "metadata": {},
   "source": [
    "<h3 id=\"simple\">Functions Make Things Simple</h3>\n"
   ]
  },
  {
   "cell_type": "markdown",
   "id": "fc640a0b",
   "metadata": {},
   "source": [
    "Consider the two lines of code in <b>Block 1</b> and <b>Block 2</b>: the procedure for each block is identical. The only thing that is different is the variable names and values.\n"
   ]
  },
  {
   "cell_type": "markdown",
   "id": "c28a4948",
   "metadata": {},
   "source": [
    "<h4>Block 1:</h4>"
   ]
  },
  {
   "cell_type": "code",
   "execution_count": 156,
   "id": "f868a3f6",
   "metadata": {},
   "outputs": [
    {
     "data": {
      "text/plain": [
       "5"
      ]
     },
     "execution_count": 156,
     "metadata": {},
     "output_type": "execute_result"
    }
   ],
   "source": [
    "# a and b calculation block1\n",
    "\n",
    "a1 = 4\n",
    "b1 = 5\n",
    "c1 = a1 + b1 + 2 * a1 * b1 - 1\n",
    "if(c1 < 0):\n",
    "    c1 = 0 \n",
    "else:\n",
    "    c1 = 5\n",
    "c1  \n"
   ]
  },
  {
   "cell_type": "markdown",
   "id": "fefd949c",
   "metadata": {},
   "source": [
    "<h4>Block 2: </h4>"
   ]
  },
  {
   "cell_type": "code",
   "execution_count": 157,
   "id": "16d71f87",
   "metadata": {},
   "outputs": [
    {
     "data": {
      "text/plain": [
       "0"
      ]
     },
     "execution_count": 157,
     "metadata": {},
     "output_type": "execute_result"
    }
   ],
   "source": [
    "# a and b calculation block2\n",
    "\n",
    "a2 = 0\n",
    "b2 = 0\n",
    "c2 = a2 + b2 + 2 * a2 * b2 - 1\n",
    "if(c2 < 0):\n",
    "    c2 = 0 \n",
    "else:\n",
    "    c2 = 5\n",
    "c2  "
   ]
  },
  {
   "cell_type": "markdown",
   "id": "de0c6808",
   "metadata": {},
   "source": [
    "We can replace the lines of code with a function. A function combines many instructions into a single line of code. Once a function is defined, it can be used repeatedly. You can invoke the same function many times in your program. You can save your function and use it in another program or use someone else’s function. The lines of code in code <b>Block 1</b> and code <b>Block 2</b> can be replaced by the following function:\n",
    "\n",
    "\n",
    "\n"
   ]
  },
  {
   "cell_type": "code",
   "execution_count": 160,
   "id": "f3689f33",
   "metadata": {},
   "outputs": [],
   "source": [
    "\n",
    "# Make a Function for the calculation above\n",
    "\n",
    "def Equation(a,b):\n",
    "    c = a + b + 2 * a * b - 1\n",
    "    if(c < 0):\n",
    "        c = 0 \n",
    "    else:\n",
    "        c = 5\n",
    "    return(c) "
   ]
  },
  {
   "cell_type": "markdown",
   "id": "5d369f7b",
   "metadata": {},
   "source": [
    "This function takes two inputs, a and b, then applies several operations to return c.\n",
    "We simply define the function, replace the instructions with the function, and input the new values of <code>a1</code>, <code>b1</code> and <code>a2</code>, <code>b2</code> as inputs. The entire process is demonstrated in the figure:\n"
   ]
  },
  {
   "cell_type": "markdown",
   "id": "d2ed1d87",
   "metadata": {},
   "source": [
    "<h4>Block 3:</h4>"
   ]
  },
  {
   "cell_type": "code",
   "execution_count": 163,
   "id": "a05aeef1",
   "metadata": {},
   "outputs": [
    {
     "data": {
      "text/plain": [
       "5"
      ]
     },
     "execution_count": 163,
     "metadata": {},
     "output_type": "execute_result"
    }
   ],
   "source": [
    "a1 = 4\n",
    "b1 = 5\n",
    "c1 = Equation(a1, b1)\n",
    "c1"
   ]
  },
  {
   "cell_type": "markdown",
   "id": "606a739b",
   "metadata": {},
   "source": [
    "<h4>Block 4:</h4>"
   ]
  },
  {
   "cell_type": "code",
   "execution_count": 164,
   "id": "579570dd",
   "metadata": {},
   "outputs": [
    {
     "data": {
      "text/plain": [
       "0"
      ]
     },
     "execution_count": 164,
     "metadata": {},
     "output_type": "execute_result"
    }
   ],
   "source": [
    "a2 = 0\n",
    "b2 = 0\n",
    "c2 = Equation(a2, b2)\n",
    "c2"
   ]
  },
  {
   "cell_type": "markdown",
   "id": "1d480130",
   "metadata": {},
   "source": [
    "## Predeined Functions"
   ]
  },
  {
   "cell_type": "code",
   "execution_count": 167,
   "id": "7fa7e43f",
   "metadata": {},
   "outputs": [
    {
     "name": "stdout",
     "output_type": "stream",
     "text": [
      "[10.0, 8.5, 9.5, 7.0, 7.0, 9.5, 9.0, 9.5]\n"
     ]
    }
   ],
   "source": [
    "# Build-in function print()\n",
    "\n",
    "album_ratings = [10.0, 8.5, 9.5, 7.0, 7.0, 9.5, 9.0, 9.5] \n",
    "print(album_ratings)"
   ]
  },
  {
   "cell_type": "code",
   "execution_count": 168,
   "id": "ee319ffb",
   "metadata": {},
   "outputs": [
    {
     "data": {
      "text/plain": [
       "70.0"
      ]
     },
     "execution_count": 168,
     "metadata": {},
     "output_type": "execute_result"
    }
   ],
   "source": [
    "# Use sum() to add every element in a list or tuple together\n",
    "\n",
    "sum(album_ratings)"
   ]
  },
  {
   "cell_type": "code",
   "execution_count": 169,
   "id": "638ed35d",
   "metadata": {},
   "outputs": [
    {
     "data": {
      "text/plain": [
       "8"
      ]
     },
     "execution_count": 169,
     "metadata": {},
     "output_type": "execute_result"
    }
   ],
   "source": [
    "len(album_ratings)"
   ]
  },
  {
   "cell_type": "markdown",
   "id": "b35af8f3",
   "metadata": {},
   "source": [
    "<h2 id=\"if\">Using <code>if</code>/<code>else</code> Statements and Loops in Functions</h2>\n",
    "\n",
    "\n",
    "The <code>return()</code> function is particularly useful if you have any IF statements in the function, when you want your output to be dependent on some condition:\n"
   ]
  },
  {
   "cell_type": "code",
   "execution_count": 173,
   "id": "845248a7",
   "metadata": {},
   "outputs": [],
   "source": [
    "def type_of_album(artist, album, year_of_release):\n",
    "    print(artist, album, year_of_release)\n",
    "    if year_of_release > 2020:\n",
    "        return \"Modern\"\n",
    "    else:\n",
    "        return \"Oldie\"\n",
    "    "
   ]
  },
  {
   "cell_type": "code",
   "execution_count": 174,
   "id": "a5b60755",
   "metadata": {},
   "outputs": [
    {
     "name": "stdout",
     "output_type": "stream",
     "text": [
      "Kamal Vikram 2022\n"
     ]
    },
    {
     "data": {
      "text/plain": [
       "'Modern'"
      ]
     },
     "execution_count": 174,
     "metadata": {},
     "output_type": "execute_result"
    }
   ],
   "source": [
    "type_of_album('Kamal','Vikram',2022)"
   ]
  },
  {
   "cell_type": "code",
   "execution_count": 175,
   "id": "2cff91cf",
   "metadata": {},
   "outputs": [
    {
     "name": "stdout",
     "output_type": "stream",
     "text": [
      "Kamal Vikram 1986\n"
     ]
    },
    {
     "data": {
      "text/plain": [
       "'Oldie'"
      ]
     },
     "execution_count": 175,
     "metadata": {},
     "output_type": "execute_result"
    }
   ],
   "source": [
    "type_of_album('Kamal','Vikram',1986)"
   ]
  },
  {
   "cell_type": "code",
   "execution_count": 177,
   "id": "8d8b64bc",
   "metadata": {},
   "outputs": [],
   "source": [
    "# Print the list using for loop\n",
    "\n",
    "def PrintList(the_list):\n",
    "    for element in the_list:\n",
    "        print(element)"
   ]
  },
  {
   "cell_type": "code",
   "execution_count": 179,
   "id": "d4e97512",
   "metadata": {},
   "outputs": [
    {
     "name": "stdout",
     "output_type": "stream",
     "text": [
      "Karunasgar\n",
      "1996\n",
      "20.5\n"
     ]
    }
   ],
   "source": [
    "PrintList(['Karunasgar',1996,20.5])"
   ]
  },
  {
   "cell_type": "markdown",
   "id": "00cb2f43",
   "metadata": {},
   "source": [
    "<h2 id=\"if\">String comparison in Functions</h2>\n"
   ]
  },
  {
   "cell_type": "markdown",
   "id": "228d71af",
   "metadata": {},
   "source": [
    "The relational operators compare the Unicode values of the characters of the strings from the zeroth index till the end of the string. It then returns a boolean value according to the operator used.\n"
   ]
  },
  {
   "cell_type": "code",
   "execution_count": 185,
   "id": "f179ecc7",
   "metadata": {},
   "outputs": [],
   "source": [
    "#Compare Two Strings Directly using in operator\n",
    "# add string\n",
    "string = \"Kalaignar is the my Leader\"\n",
    "\n",
    "#Define a function\n",
    "def check_string(text):\n",
    "    \n",
    "# Use if else statement and 'in' operatore to compare the string\n",
    "    if text in string:\n",
    "        return \"String Matched\"\n",
    "    else:\n",
    "        return \"String not Matched\""
   ]
  },
  {
   "cell_type": "code",
   "execution_count": 191,
   "id": "c165c7dd",
   "metadata": {},
   "outputs": [
    {
     "data": {
      "text/plain": [
       "'String Matched'"
      ]
     },
     "execution_count": 191,
     "metadata": {},
     "output_type": "execute_result"
    }
   ],
   "source": [
    "check_string(\"Leader\")"
   ]
  },
  {
   "cell_type": "markdown",
   "id": "fcd429bf",
   "metadata": {},
   "source": [
    "This program uses a user-defined function named compareStrings() to compare two strings. \n",
    "\n",
    "This function receives both strings as its argument and returns 1 if both strings are equal using == operator"
   ]
  },
  {
   "cell_type": "code",
   "execution_count": 197,
   "id": "4f66d293",
   "metadata": {},
   "outputs": [
    {
     "name": "stdout",
     "output_type": "stream",
     "text": [
      "String Matched\n"
     ]
    }
   ],
   "source": [
    "#Compare two strings using == operator and function\n",
    "def compareStrings(x, y):\n",
    "# Use if else statement to compare x and y\n",
    "    if x==y:\n",
    "        return 1\n",
    "    \n",
    "# Declare two different variables as string1 and string2 and pass string in it\n",
    "string1 = \"Kalaignar is the best\"\n",
    "string2 = \"Kalaignar is the best\"\n",
    "    \n",
    "# Declare a variable to store result after comparing both the strings\n",
    "check = compareStrings(string1, string2)   \n",
    "\n",
    "#Use if else statement to compare the string\n",
    "if check==1:\n",
    "    print(\"String Matched\")\n",
    "else:\n",
    "    print(\"String not Matched\")"
   ]
  },
  {
   "cell_type": "markdown",
   "id": "adac4aff",
   "metadata": {},
   "source": [
    "**Count the Frequency of Words Appearing in a String Using a Dictionary.** \n",
    "\n",
    "Find the count of occurence of any word in our string using python. This is what we are going to do in this section, count the number of word in a given string and print it.\n",
    "\n",
    "Lets suppose we have a ‘string’ and the ‘word’ and we need to find the count of occurence of this word in our string using python. This is what we are going to do in this section, count the number of word in a given string and print it. \n",
    "\n",
    "The first thing, we will do is define a function and and then create a list that will be empty initially.\n",
    "\n",
    "Next, we will add a code to convert the string to a list. Python string has a split() method. It takes a string and some separator to return a list.\n",
    "\n",
    "Now we will declare an empty dictionary.\n",
    "\n",
    "Next we will add code using for loop to iterate the words and value will will count the frequency of each words in the string and store them to the dictionary.\n",
    "\n",
    "Finally we will print the dictionary.\n"
   ]
  },
  {
   "cell_type": "code",
   "execution_count": 209,
   "id": "df1f2897",
   "metadata": {},
   "outputs": [
    {
     "name": "stdout",
     "output_type": "stream",
     "text": [
      "The Frequency of words is: {'karunasagar': 1, 'is': 1, 'an': 1, 'engineer': 1, 'and': 4, 'also': 2, 'die': 1, 'hard': 1, 'dravidian': 1, 'ideologe': 1, 'follwer.': 1, 'he': 2, 'admit': 1, 'mr.kalaignar': 1, 'as': 1, 'his': 1, 'leader': 1, 'saw': 1, 'thanthai': 1, 'periyar': 1, 'aringar': 1, 'anna': 1, 'are': 1, 'the': 1, 'guiding': 1, 'driving': 1, 'force': 1, 'for': 1, 'him': 1}\n"
     ]
    }
   ],
   "source": [
    "# Python Program to Count words in a String using Dictionary\n",
    "def freq(string):\n",
    "    \n",
    "    #step1: A list variable is declared and initialized to an empty list.\n",
    "    words = []\n",
    "    \n",
    "    #step2: Break the string into list of words\n",
    "    words = string.lower().split() # or string.lower().split()\n",
    "    \n",
    "    #step3: Declare a dictionary\n",
    "    Dict = {}\n",
    "    \n",
    "    #step4: Use for loop to iterate words and values to the dictionary\n",
    "    for key in words:\n",
    "        Dict[key] = words.count(key)\n",
    "        \n",
    "    #step5: Print the dictionary\n",
    "    print(\"The Frequency of words is:\",Dict)\n",
    "    \n",
    "#step6: Call function and pass string in it\n",
    "freq(\"Karunasagar is an Engineer and also die hard dravidian ideologe follwer. He admit Mr.Kalaignar as his leader and also he saw Thanthai Periyar and Aringar Anna are the Guiding and driving force for him\")"
   ]
  },
  {
   "cell_type": "markdown",
   "id": "2adf56fb",
   "metadata": {},
   "source": [
    "<h2 id=\"default\">Setting default argument values in your custom functions</h2>"
   ]
  },
  {
   "cell_type": "markdown",
   "id": "a92ecf01",
   "metadata": {},
   "source": [
    "You can set a default value for arguments in your function. For example, in the <code>isGoodRating()</code> function, what if we wanted to create a threshold for what we consider to be a good rating? Perhaps by default, we should have a default rating of 4:"
   ]
  },
  {
   "cell_type": "code",
   "execution_count": 210,
   "id": "49de6710",
   "metadata": {},
   "outputs": [],
   "source": [
    "# Example for setting param with default value\n",
    "\n",
    "def isGoodRating(rating=4): \n",
    "    if(rating < 7):\n",
    "        print(\"this album sucks it's rating is\",rating)\n",
    "        \n",
    "    else:\n",
    "        print(\"this album is good its rating is\",rating)"
   ]
  },
  {
   "cell_type": "code",
   "execution_count": 211,
   "id": "88c3453d",
   "metadata": {},
   "outputs": [
    {
     "name": "stdout",
     "output_type": "stream",
     "text": [
      "this album sucks it's rating is 4\n",
      "this album is good its rating is 10\n"
     ]
    }
   ],
   "source": [
    "\n",
    "isGoodRating()\n",
    "isGoodRating(10)"
   ]
  },
  {
   "cell_type": "markdown",
   "id": "71932e4a",
   "metadata": {},
   "source": [
    "<h2 id=\"global\">Global variables</h2>\n",
    "\n",
    "\n",
    "So far, we've been creating variables within functions, but we have not discussed variables outside the function. These are called global variables. <br>\n",
    "Let's try to see what <code>printer1</code> returns:\n"
   ]
  },
  {
   "cell_type": "code",
   "execution_count": 215,
   "id": "e8f45ccd",
   "metadata": {},
   "outputs": [
    {
     "name": "stdout",
     "output_type": "stream",
     "text": [
      "Sivaji Ganesan is an artist\n"
     ]
    }
   ],
   "source": [
    "# Example of global variable\n",
    "\n",
    "artist = \"Sivaji Ganesan\"\n",
    "def printer1(artist):\n",
    "    internal_var1 = artist\n",
    "    print(artist, \"is an artist\")\n",
    "    \n",
    "printer1(artist)\n",
    "# try runningthe following code\n",
    "#printer1(internal_var1) "
   ]
  },
  {
   "cell_type": "code",
   "execution_count": 216,
   "id": "2e9f7beb",
   "metadata": {},
   "outputs": [
    {
     "ename": "NameError",
     "evalue": "name 'internal_var1' is not defined",
     "output_type": "error",
     "traceback": [
      "\u001b[1;31m---------------------------------------------------------------------------\u001b[0m",
      "\u001b[1;31mNameError\u001b[0m                                 Traceback (most recent call last)",
      "Cell \u001b[1;32mIn[216], line 1\u001b[0m\n\u001b[1;32m----> 1\u001b[0m printer1(\u001b[43minternal_var1\u001b[49m)\n",
      "\u001b[1;31mNameError\u001b[0m: name 'internal_var1' is not defined"
     ]
    }
   ],
   "source": [
    "printer1(internal_var1)"
   ]
  },
  {
   "cell_type": "markdown",
   "id": "de141e3d",
   "metadata": {},
   "source": [
    "<b>We got a Name Error:  <code>name 'internal_var' is not defined</code>. Why?</b>\n",
    "\n",
    "It's because all the variables we create in the function is a <b>local variable</b>, meaning that the variable assignment does not persist outside the function.\n",
    "\n",
    "But there is a way to create <b>global variables</b> from within a function as follows:\n"
   ]
  },
  {
   "cell_type": "code",
   "execution_count": 217,
   "id": "0428a7e5",
   "metadata": {},
   "outputs": [
    {
     "name": "stdout",
     "output_type": "stream",
     "text": [
      "Michael Jackson is an artist\n",
      "Whitney Houston is an artist\n"
     ]
    }
   ],
   "source": [
    "artist = \"Michael Jackson\"\n",
    "\n",
    "def printer(artist):\n",
    "    global internal_var \n",
    "    internal_var= \"Whitney Houston\"\n",
    "    print(artist,\"is an artist\")\n",
    "\n",
    "printer(artist) \n",
    "printer(internal_var)"
   ]
  },
  {
   "cell_type": "code",
   "execution_count": 219,
   "id": "99048e66",
   "metadata": {},
   "outputs": [
    {
     "data": {
      "text/plain": [
       "'Whitney Houston'"
      ]
     },
     "execution_count": 219,
     "metadata": {},
     "output_type": "execute_result"
    }
   ],
   "source": [
    "internal_var"
   ]
  },
  {
   "cell_type": "markdown",
   "id": "423cb7a6",
   "metadata": {},
   "source": [
    "<h2 id=\"scope\">Scope of a Variable</h2>\n"
   ]
  },
  {
   "cell_type": "markdown",
   "id": "52897741",
   "metadata": {},
   "source": [
    "The scope of a variable is the part of that program where that variable is accessible. Variables that are declared outside of all function definitions, such as the <code>myFavouriteBand</code> variable in the code shown here, are accessible from anywhere within the program. As a result, such variables are said to have global scope, and are known as global variables. <code>myFavouriteBand</code> is a global variable, so it is accessible from within the <code>getBandRating</code> function, and we can use it to determine a band's rating. We can also use it outside of the function, such as when we pass it to the print function to display it:\n"
   ]
  },
  {
   "cell_type": "code",
   "execution_count": 218,
   "id": "1b24f12c",
   "metadata": {},
   "outputs": [
    {
     "name": "stdout",
     "output_type": "stream",
     "text": [
      "AC/DC's rating is: 10.0\n",
      "Deep Purple's rating is: 0.0\n",
      "My favourite band is: AC/DC\n"
     ]
    }
   ],
   "source": [
    "# Example of global variable\n",
    "\n",
    "myFavouriteBand = \"AC/DC\"\n",
    "\n",
    "def getBandRating(bandname):\n",
    "    if bandname == myFavouriteBand:\n",
    "        return 10.0\n",
    "    else:\n",
    "        return 0.0\n",
    "\n",
    "print(\"AC/DC's rating is:\", getBandRating(\"AC/DC\"))\n",
    "print(\"Deep Purple's rating is:\",getBandRating(\"Deep Purple\"))\n",
    "print(\"My favourite band is:\", myFavouriteBand)"
   ]
  },
  {
   "cell_type": "markdown",
   "id": "d2071535",
   "metadata": {},
   "source": [
    "Take a look at this modified version of our code. Now the <code>myFavouriteBand</code> variable is defined within the <code>getBandRating</code> function. A variable that is defined within a function is said to be a local variable of that function. That means that it is only accessible from within the function in which it is defined. Our <code>getBandRating</code> function will still work, because <code>myFavouriteBand</code> is still defined within the function. However, we can no longer print <code>myFavouriteBand</code> outside our function, because it is a local variable of our <code>getBandRating</code> function; it is only defined within the <code>getBandRating</code> function:\n"
   ]
  },
  {
   "cell_type": "code",
   "execution_count": 220,
   "id": "1f5f4553",
   "metadata": {},
   "outputs": [
    {
     "name": "stdout",
     "output_type": "stream",
     "text": [
      "AC/DC's rating is:  10.0\n",
      "Deep Purple's rating is:  0.0\n"
     ]
    },
    {
     "ename": "NameError",
     "evalue": "name 'myFavouriteBand' is not defined",
     "output_type": "error",
     "traceback": [
      "\u001b[1;31m---------------------------------------------------------------------------\u001b[0m",
      "\u001b[1;31mNameError\u001b[0m                                 Traceback (most recent call last)",
      "Cell \u001b[1;32mIn[220], line 16\u001b[0m\n\u001b[0;32m     14\u001b[0m \u001b[38;5;28mprint\u001b[39m(\u001b[38;5;124m\"\u001b[39m\u001b[38;5;124mAC/DC\u001b[39m\u001b[38;5;124m'\u001b[39m\u001b[38;5;124ms rating is: \u001b[39m\u001b[38;5;124m\"\u001b[39m, getBandRating(\u001b[38;5;124m\"\u001b[39m\u001b[38;5;124mAC/DC\u001b[39m\u001b[38;5;124m\"\u001b[39m))\n\u001b[0;32m     15\u001b[0m \u001b[38;5;28mprint\u001b[39m(\u001b[38;5;124m\"\u001b[39m\u001b[38;5;124mDeep Purple\u001b[39m\u001b[38;5;124m'\u001b[39m\u001b[38;5;124ms rating is: \u001b[39m\u001b[38;5;124m\"\u001b[39m, getBandRating(\u001b[38;5;124m\"\u001b[39m\u001b[38;5;124mDeep Purple\u001b[39m\u001b[38;5;124m\"\u001b[39m))\n\u001b[1;32m---> 16\u001b[0m \u001b[38;5;28mprint\u001b[39m(\u001b[38;5;124m\"\u001b[39m\u001b[38;5;124mMy favourite band is\u001b[39m\u001b[38;5;124m\"\u001b[39m, \u001b[43mmyFavouriteBand\u001b[49m)\n",
      "\u001b[1;31mNameError\u001b[0m: name 'myFavouriteBand' is not defined"
     ]
    }
   ],
   "source": [
    "# Deleting the variable \"myFavouriteBand\" from the previous example to demonstrate an example of a local variable \n",
    "\n",
    "del myFavouriteBand\n",
    "\n",
    "# Example of local variable\n",
    "\n",
    "def getBandRating(bandname):\n",
    "    myFavouriteBand = \"AC/DC\"\n",
    "    if bandname == myFavouriteBand:\n",
    "        return 10.0\n",
    "    else:\n",
    "        return 0.0\n",
    "\n",
    "print(\"AC/DC's rating is: \", getBandRating(\"AC/DC\"))\n",
    "print(\"Deep Purple's rating is: \", getBandRating(\"Deep Purple\"))\n",
    "print(\"My favourite band is\", myFavouriteBand)"
   ]
  },
  {
   "cell_type": "code",
   "execution_count": 221,
   "id": "4a118b3d",
   "metadata": {},
   "outputs": [
    {
     "name": "stdout",
     "output_type": "stream",
     "text": [
      "AC/DC's rating is: 0.0\n",
      "Deep Purple's rating is:  10.0\n",
      "My favourite band is: AC/DC\n"
     ]
    }
   ],
   "source": [
    "# Example of global variable and local variable with the same name\n",
    "\n",
    "myFavouriteBand = \"AC/DC\"\n",
    "\n",
    "def getBandRating(bandname):\n",
    "    myFavouriteBand = \"Deep Purple\"\n",
    "    if bandname == myFavouriteBand:\n",
    "        return 10.0\n",
    "    else:\n",
    "        return 0.0\n",
    "\n",
    "print(\"AC/DC's rating is:\",getBandRating(\"AC/DC\"))\n",
    "print(\"Deep Purple's rating is: \",getBandRating(\"Deep Purple\"))\n",
    "print(\"My favourite band is:\",myFavouriteBand)"
   ]
  },
  {
   "cell_type": "markdown",
   "id": "28d7a8b1",
   "metadata": {},
   "source": [
    "<hr>\n",
    "<h2 id =\"collec\"> Collections and Functions</h2>\n"
   ]
  },
  {
   "cell_type": "markdown",
   "id": "2f09b775",
   "metadata": {},
   "source": [
    "When the number of arguments  are unknown for a function, They can all be packed into a tuple as shown:\n"
   ]
  },
  {
   "cell_type": "code",
   "execution_count": 222,
   "id": "582a3532",
   "metadata": {},
   "outputs": [],
   "source": [
    "def printall(*args):\n",
    "    print('No.of.argguments:',len(args))\n",
    "    for argument in args:\n",
    "        print(argument)"
   ]
  },
  {
   "cell_type": "code",
   "execution_count": 223,
   "id": "ae28e014",
   "metadata": {},
   "outputs": [
    {
     "name": "stdout",
     "output_type": "stream",
     "text": [
      "No.of.argguments: 4\n",
      "Karunasagar\n",
      "1\n",
      "3.5\n",
      "Elavarasi\n"
     ]
    }
   ],
   "source": [
    "printall('Karunasagar',1,3.5,'Elavarasi')"
   ]
  },
  {
   "cell_type": "markdown",
   "id": "2a4f3129",
   "metadata": {},
   "source": [
    "Similarly, The arguments can also be packed into a dictionary as shown:\n"
   ]
  },
  {
   "cell_type": "code",
   "execution_count": 226,
   "id": "0d938c87",
   "metadata": {},
   "outputs": [],
   "source": [
    "def printdictionary(**args):\n",
    "    for key in args:\n",
    "        print(key+\" : \"+args[key])"
   ]
  },
  {
   "cell_type": "code",
   "execution_count": 227,
   "id": "793c8c88",
   "metadata": {},
   "outputs": [
    {
     "name": "stdout",
     "output_type": "stream",
     "text": [
      "Country : India\n",
      "State : Tamilnadu\n",
      "City : Dindigul\n",
      "Taluk : Oddanchathram\n",
      "Panchayat : Mandavadi\n",
      "Village : C.K.Valasu\n"
     ]
    }
   ],
   "source": [
    "printdictionary(Country='India',State='Tamilnadu',City='Dindigul',Taluk='Oddanchathram',Panchayat='Mandavadi',Village='C.K.Valasu')"
   ]
  },
  {
   "cell_type": "markdown",
   "id": "790a3799",
   "metadata": {},
   "source": [
    "Functions can be incredibly powerful and versatile. They can accept (and return) data types, objects and even other functions as arguements. Consider the example below:\n"
   ]
  },
  {
   "cell_type": "code",
   "execution_count": 229,
   "id": "6ad28c51",
   "metadata": {},
   "outputs": [],
   "source": [
    "def additems(list):\n",
    "    list.append('Three')\n",
    "    list.append('Four')\n",
    "    \n",
    "myList = ['One','Two']\n",
    "\n",
    "additems(myList)"
   ]
  },
  {
   "cell_type": "code",
   "execution_count": 230,
   "id": "ea674b78",
   "metadata": {},
   "outputs": [
    {
     "data": {
      "text/plain": [
       "['One', 'Two', 'Three', 'Four']"
      ]
     },
     "execution_count": 230,
     "metadata": {},
     "output_type": "execute_result"
    }
   ],
   "source": [
    "myList"
   ]
  },
  {
   "cell_type": "markdown",
   "id": "50b5a400",
   "metadata": {},
   "source": [
    "Come up with a function that divides the first input by the second input:\n"
   ]
  },
  {
   "cell_type": "code",
   "execution_count": 241,
   "id": "9ecd55f9",
   "metadata": {},
   "outputs": [],
   "source": [
    "# Write your code below and press Shift+Enter to execute\n",
    "def num(a,b):\n",
    "    c = a/b\n",
    "    return c"
   ]
  },
  {
   "cell_type": "code",
   "execution_count": 242,
   "id": "5fc602cd",
   "metadata": {},
   "outputs": [
    {
     "data": {
      "text/plain": [
       "1.2"
      ]
     },
     "execution_count": 242,
     "metadata": {},
     "output_type": "execute_result"
    }
   ],
   "source": [
    "num(6,5)"
   ]
  },
  {
   "cell_type": "code",
   "execution_count": 243,
   "id": "7bb47a7a",
   "metadata": {},
   "outputs": [],
   "source": [
    "# Use the con function for the following question\n",
    "\n",
    "def con(a, b):\n",
    "    return(a + b)"
   ]
  },
  {
   "cell_type": "code",
   "execution_count": 246,
   "id": "e182668e",
   "metadata": {},
   "outputs": [
    {
     "data": {
      "text/plain": [
       "'Karunasagar'"
      ]
     },
     "execution_count": 246,
     "metadata": {},
     "output_type": "execute_result"
    }
   ],
   "source": [
    "con('Karuna','sagar')"
   ]
  },
  {
   "cell_type": "code",
   "execution_count": 248,
   "id": "5c6cfd80",
   "metadata": {},
   "outputs": [
    {
     "name": "stdout",
     "output_type": "stream",
     "text": [
      "5\n",
      "KSELa\n"
     ]
    }
   ],
   "source": [
    "# Write your code below and press Shift+Enter to execute\n",
    "a= con(2,3)\n",
    "b=con('KS','ELa')\n",
    "print(a)\n",
    "print(b)"
   ]
  },
  {
   "cell_type": "code",
   "execution_count": null,
   "id": "93c3b594",
   "metadata": {},
   "outputs": [],
   "source": []
  },
  {
   "cell_type": "code",
   "execution_count": null,
   "id": "b70145c9",
   "metadata": {},
   "outputs": [],
   "source": []
  }
 ],
 "metadata": {
  "kernelspec": {
   "display_name": "Python 3 (ipykernel)",
   "language": "python",
   "name": "python3"
  },
  "language_info": {
   "codemirror_mode": {
    "name": "ipython",
    "version": 3
   },
   "file_extension": ".py",
   "mimetype": "text/x-python",
   "name": "python",
   "nbconvert_exporter": "python",
   "pygments_lexer": "ipython3",
   "version": "3.10.9"
  }
 },
 "nbformat": 4,
 "nbformat_minor": 5
}
