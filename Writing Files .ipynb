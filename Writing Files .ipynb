{
 "cells": [
  {
   "cell_type": "markdown",
   "id": "e1fcccfe",
   "metadata": {},
   "source": [
    "### Writing the File"
   ]
  },
  {
   "cell_type": "code",
   "execution_count": 2,
   "id": "fde930e7",
   "metadata": {},
   "outputs": [],
   "source": [
    "with open(\"C:/Users/karun/Downloads/Kalaignar Karunanidhi.txt\",'w') as MK:\n",
    "    MK.write(\"Nenjuku Neethi\")"
   ]
  },
  {
   "cell_type": "markdown",
   "id": "3ef3ca96",
   "metadata": {},
   "source": [
    "### Read the File"
   ]
  },
  {
   "cell_type": "code",
   "execution_count": 7,
   "id": "32b73afb",
   "metadata": {},
   "outputs": [
    {
     "name": "stdout",
     "output_type": "stream",
     "text": [
      "Poonar shankar\n",
      "Kuraloviyam\n"
     ]
    }
   ],
   "source": [
    "with open(\"C:/Users/karun/Downloads/Kalaignar Karunanidhi.txt\",'r') as testMK:\n",
    "    print(testMK.read())"
   ]
  },
  {
   "cell_type": "code",
   "execution_count": 6,
   "id": "1d622375",
   "metadata": {},
   "outputs": [],
   "source": [
    "with open(\"C:/Users/karun/Downloads/Kalaignar Karunanidhi.txt\",\"w\") as MK:\n",
    "    MK.write(\"Poonar shankar\\n\")\n",
    "    MK.write(\"Kuraloviyam\")"
   ]
  },
  {
   "cell_type": "code",
   "execution_count": 15,
   "id": "7f1fa81f",
   "metadata": {},
   "outputs": [],
   "source": [
    "Books = ['Payum Puli\\n','Kavithai mazhi\\n','Sangatamil\\n']"
   ]
  },
  {
   "cell_type": "code",
   "execution_count": 16,
   "id": "8f0de19f",
   "metadata": {},
   "outputs": [
    {
     "name": "stdout",
     "output_type": "stream",
     "text": [
      "Payum Puli\n",
      "\n",
      "Kavithai mazhi\n",
      "\n",
      "Sangatamil\n",
      "\n"
     ]
    }
   ],
   "source": [
    "# Write the strings in the list to text file\n",
    "with open(\"C:/Users/karun/Downloads/Kalaignar Karunanidhi.txt\",\"w\") as MK:\n",
    "    for book in Books:\n",
    "        print(book)\n",
    "        MK.write(book)"
   ]
  },
  {
   "cell_type": "code",
   "execution_count": 17,
   "id": "4769efda",
   "metadata": {},
   "outputs": [
    {
     "name": "stdout",
     "output_type": "stream",
     "text": [
      "Payum Puli\n",
      "Kavithai mazhi\n",
      "Sangatamil\n",
      "\n"
     ]
    }
   ],
   "source": [
    "# Verify if writing to file is successfully executed\n",
    "with open(\"C:/Users/karun/Downloads/Kalaignar Karunanidhi.txt\",'r') as testMK:\n",
    "    print(testMK.read())"
   ]
  },
  {
   "cell_type": "markdown",
   "id": "e00b9919",
   "metadata": {},
   "source": [
    "From above operation, By setting __w__ Overwrites all the existing data in the file"
   ]
  },
  {
   "cell_type": "code",
   "execution_count": 21,
   "id": "ca5a09ec",
   "metadata": {},
   "outputs": [
    {
     "name": "stdout",
     "output_type": "stream",
     "text": [
      "Kaditham\n",
      "\n"
     ]
    }
   ],
   "source": [
    "with open(\"C:/Users/karun/Downloads/Kalaignar Karunanidhi.txt\",'w') as MK:\n",
    "    MK.write(\"Kaditham\\n\")\n",
    "with open(\"C:/Users/karun/Downloads/Kalaignar Karunanidhi.txt\",'r') as MK:\n",
    "    print(MK.read())"
   ]
  },
  {
   "cell_type": "markdown",
   "id": "08836b18",
   "metadata": {},
   "source": [
    "<h2>Appending Files</h2>\n"
   ]
  },
  {
   "cell_type": "markdown",
   "id": "54e5c664",
   "metadata": {},
   "source": [
    " We can write to files without losing any of the existing data as follows by setting the mode argument to append: **a**.  you can append a new line as follows:"
   ]
  },
  {
   "cell_type": "code",
   "execution_count": 22,
   "id": "60d43b46",
   "metadata": {},
   "outputs": [],
   "source": [
    "with open(\"C:/Users/karun/Downloads/Kalaignar Karunanidhi.txt\",'a') as MK:\n",
    "    MK.write(\"Legislature Oration\\n\")\n",
    "    MK.write(\"Public Oration\\n\")"
   ]
  },
  {
   "cell_type": "code",
   "execution_count": 24,
   "id": "bbee549c",
   "metadata": {},
   "outputs": [
    {
     "name": "stdout",
     "output_type": "stream",
     "text": [
      "Kaditham\n",
      "Legislature Oration\n",
      "Public Oration\n",
      "\n"
     ]
    }
   ],
   "source": [
    "with open(\"C:/Users/karun/Downloads/Kalaignar Karunanidhi.txt\",'r') as MK:\n",
    "    print(MK.read())"
   ]
  },
  {
   "cell_type": "markdown",
   "id": "75305df8",
   "metadata": {},
   "source": [
    "<h2> Additional Modes </h2>\n"
   ]
  },
  {
   "cell_type": "markdown",
   "id": "3fa8bbf6",
   "metadata": {},
   "source": [
    "It's fairly ineffecient to open the file in **a** or **w** and then reopening it in **r** to read any lines. Luckily we can access the file in the following modes:\n",
    "- **r+** : Reading and writing. Cannot truncate the file.\n",
    "- **w+** : Writing and reading. Truncates the file.\n",
    "- **a+** : Appending and Reading. Creates a new file, if none exists.\n",
    "You dont have to dwell on the specifics of each mode for this lab. "
   ]
  },
  {
   "cell_type": "code",
   "execution_count": 25,
   "id": "3d9acf0a",
   "metadata": {},
   "outputs": [
    {
     "name": "stdout",
     "output_type": "stream",
     "text": [
      "\n"
     ]
    }
   ],
   "source": [
    "with open(\"C:/Users/karun/Downloads/Kalaignar Karunanidhi.txt\",\"a+\") as MK:\n",
    "    MK.write('Comedy Speech \\n')\n",
    "    print(MK.read())"
   ]
  },
  {
   "cell_type": "markdown",
   "id": "8f95f443",
   "metadata": {},
   "source": [
    "Opening the file in **w** is akin to opening the .txt file, moving your cursor to the beginning of the text file, writing new text and deleting everything that follows.\n",
    "Whereas opening the file in **a** is similiar to opening the .txt file, moving your cursor to the very end and then adding the new pieces of text. <br>\n",
    "It is often very useful to know where the 'cursor' is in a file and be able to control it. The following methods allow us to do precisely this -\n",
    "- <code>.tell()</code> - returns the current position in bytes\n",
    "- <code>.seek(offset,from)</code> - changes the position by 'offset' bytes with respect to 'from'. From can take the value of 0,1,2 corresponding to beginning, relative to current position and end"
   ]
  },
  {
   "cell_type": "code",
   "execution_count": 36,
   "id": "253a09bf",
   "metadata": {},
   "outputs": [
    {
     "name": "stdout",
     "output_type": "stream",
     "text": [
      "Initial: 63\n",
      "Read Nothing\n",
      "\n",
      "Current:0\n",
      "Kaditham\n",
      "Legislature Oration\n",
      "Public Oration\n",
      "Comedy Speech \n",
      "\n",
      "Location after read: 63\n"
     ]
    }
   ],
   "source": [
    "with open(\"C:/Users/karun/Downloads/Kalaignar Karunanidhi.txt\",\"a+\") as MK:\n",
    "    print(\"Initial: {}\".format(MK.tell()))\n",
    "    \n",
    "    saraku = MK.read()\n",
    "    if (not saraku):\n",
    "        print('Read Nothing')\n",
    "    else:\n",
    "        print(MK.read())\n",
    "        \n",
    "    MK.seek(0,0)    \n",
    "    \n",
    "    print('\\nCurrent:{}'.format(MK.tell()))\n",
    "    saraku = MK.read()\n",
    "    if (not saraku):\n",
    "        print('Read Nothing')\n",
    "    else:\n",
    "        print(saraku)\n",
    "        \n",
    "        \n",
    "    print(\"Location after read: {}\".format(MK.tell()) )"
   ]
  },
  {
   "cell_type": "code",
   "execution_count": 40,
   "id": "4a5e5ac9",
   "metadata": {},
   "outputs": [
    {
     "name": "stdout",
     "output_type": "stream",
     "text": [
      "Line 1\n",
      "Line 2\n",
      "Line 3\n",
      "finished\n",
      "\n"
     ]
    }
   ],
   "source": [
    "with open('C:/Users/karun/Downloads/Kalaignar Karunanidhi.txt', 'r+') as testwritefile:\n",
    "    data = testwritefile.readlines()\n",
    "    testwritefile.seek(0,0) #write at beginning of file\n",
    "    \n",
    "    testwritefile.write(\"Line 1\" + \"\\n\")\n",
    "    testwritefile.write(\"Line 2\" + \"\\n\")\n",
    "    testwritefile.write(\"Line 3\" + \"\\n\")\n",
    "    testwritefile.write(\"finished\\n\")\n",
    "    #Uncomment the line below\n",
    "    #testwritefile.truncate()\n",
    "    testwritefile.seek(0,0)\n",
    "    print(testwritefile.read())\n",
    "    "
   ]
  },
  {
   "cell_type": "markdown",
   "id": "b4acbf68",
   "metadata": {},
   "source": [
    "### Copy"
   ]
  },
  {
   "cell_type": "code",
   "execution_count": 41,
   "id": "a5027300",
   "metadata": {},
   "outputs": [],
   "source": [
    "# Copy file to another\n",
    "with open('C:/Users/karun/Downloads/Kalaignar Karunanidhi.txt','r') as readfile:\n",
    "    with open('Dream of the Democrat.txt','w') as writefile:\n",
    "          for line in readfile:\n",
    "                writefile.write(line)"
   ]
  },
  {
   "cell_type": "code",
   "execution_count": 43,
   "id": "895776ea",
   "metadata": {},
   "outputs": [
    {
     "name": "stdout",
     "output_type": "stream",
     "text": [
      "Line 1\n",
      "Line 2\n",
      "Line 3\n",
      "finished\n",
      "\n"
     ]
    }
   ],
   "source": [
    "# Verify if the copy is successfully executed\n",
    "with open('Dream of the Democrat.txt','r') as A:\n",
    "    print(A.read())"
   ]
  },
  {
   "cell_type": "code",
   "execution_count": null,
   "id": "40dc486a",
   "metadata": {},
   "outputs": [],
   "source": []
  }
 ],
 "metadata": {
  "kernelspec": {
   "display_name": "Python 3 (ipykernel)",
   "language": "python",
   "name": "python3"
  },
  "language_info": {
   "codemirror_mode": {
    "name": "ipython",
    "version": 3
   },
   "file_extension": ".py",
   "mimetype": "text/x-python",
   "name": "python",
   "nbconvert_exporter": "python",
   "pygments_lexer": "ipython3",
   "version": "3.10.9"
  }
 },
 "nbformat": 4,
 "nbformat_minor": 5
}
