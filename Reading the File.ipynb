{
 "cells": [
  {
   "cell_type": "markdown",
   "id": "807498ac",
   "metadata": {},
   "source": [
    "### Reading the text File"
   ]
  },
  {
   "cell_type": "code",
   "execution_count": 33,
   "id": "9cd8ef48",
   "metadata": {},
   "outputs": [],
   "source": [
    "Anna = 'Dream of the Democrat.txt'"
   ]
  },
  {
   "cell_type": "code",
   "execution_count": 34,
   "id": "df7952e2",
   "metadata": {},
   "outputs": [],
   "source": [
    "f1 = open(Anna,\"r\")"
   ]
  },
  {
   "cell_type": "code",
   "execution_count": 35,
   "id": "3f543dba",
   "metadata": {},
   "outputs": [
    {
     "data": {
      "text/plain": [
       "'Dream of the Democrat.txt'"
      ]
     },
     "execution_count": 35,
     "metadata": {},
     "output_type": "execute_result"
    }
   ],
   "source": [
    "f1.name"
   ]
  },
  {
   "cell_type": "code",
   "execution_count": 36,
   "id": "44a5ed60",
   "metadata": {},
   "outputs": [
    {
     "data": {
      "text/plain": [
       "'r'"
      ]
     },
     "execution_count": 36,
     "metadata": {},
     "output_type": "execute_result"
    }
   ],
   "source": [
    "f1.mode"
   ]
  },
  {
   "cell_type": "code",
   "execution_count": 37,
   "id": "dfadd0a4",
   "metadata": {},
   "outputs": [
    {
     "name": "stdout",
     "output_type": "stream",
     "text": [
      "Dream of the Democrat\n",
      "\"The essence of democracy is humility\"\n",
      "Soul of Nation\n",
      "Rupee is sick\n",
      "A noble cause\n",
      "Behind the bars\n"
     ]
    }
   ],
   "source": [
    "print(f1.read())"
   ]
  },
  {
   "cell_type": "code",
   "execution_count": 42,
   "id": "48131c9b",
   "metadata": {},
   "outputs": [
    {
     "data": {
      "text/plain": [
       "str"
      ]
     },
     "execution_count": 42,
     "metadata": {},
     "output_type": "execute_result"
    }
   ],
   "source": [
    "type(f1.read())"
   ]
  },
  {
   "cell_type": "code",
   "execution_count": 48,
   "id": "02119a25",
   "metadata": {},
   "outputs": [],
   "source": [
    "f1.close()"
   ]
  },
  {
   "cell_type": "markdown",
   "id": "33490a5c",
   "metadata": {},
   "source": [
    "### Eg-2"
   ]
  },
  {
   "cell_type": "code",
   "execution_count": 43,
   "id": "fbd78492",
   "metadata": {},
   "outputs": [],
   "source": [
    "Kalaignar = open(\"C:/Users/karun/Downloads/Kalaignar Karunanidhi.txt\",\"r\")"
   ]
  },
  {
   "cell_type": "code",
   "execution_count": 44,
   "id": "85eb2060",
   "metadata": {},
   "outputs": [
    {
     "data": {
      "text/plain": [
       "'C:/Users/karun/Downloads/Kalaignar Karunanidhi.txt'"
      ]
     },
     "execution_count": 44,
     "metadata": {},
     "output_type": "execute_result"
    }
   ],
   "source": [
    "Kalaignar.name"
   ]
  },
  {
   "cell_type": "code",
   "execution_count": 45,
   "id": "8ff61ae2",
   "metadata": {},
   "outputs": [
    {
     "data": {
      "text/plain": [
       "'r'"
      ]
     },
     "execution_count": 45,
     "metadata": {},
     "output_type": "execute_result"
    }
   ],
   "source": [
    "Kalaignar.mode"
   ]
  },
  {
   "cell_type": "code",
   "execution_count": 46,
   "id": "f415aa11",
   "metadata": {},
   "outputs": [
    {
     "name": "stdout",
     "output_type": "stream",
     "text": [
      "80\n",
      "60\n",
      "50\n",
      "20\n",
      "\n"
     ]
    }
   ],
   "source": [
    "print(Kalaignar.read())"
   ]
  },
  {
   "cell_type": "code",
   "execution_count": 47,
   "id": "b797dabb",
   "metadata": {},
   "outputs": [
    {
     "data": {
      "text/plain": [
       "str"
      ]
     },
     "execution_count": 47,
     "metadata": {},
     "output_type": "execute_result"
    }
   ],
   "source": [
    "type(Kalaignar.read())"
   ]
  },
  {
   "cell_type": "code",
   "execution_count": 49,
   "id": "3bd4c54d",
   "metadata": {},
   "outputs": [],
   "source": [
    "Kalaignar.close()"
   ]
  },
  {
   "cell_type": "markdown",
   "id": "27baae89",
   "metadata": {},
   "source": [
    "<h2> A Better way to Open a file </h2>"
   ]
  },
  {
   "cell_type": "code",
   "execution_count": 82,
   "id": "6de0cfdc",
   "metadata": {},
   "outputs": [
    {
     "name": "stdout",
     "output_type": "stream",
     "text": [
      "Nenjuku Neethi\n"
     ]
    }
   ],
   "source": [
    "with open(\"C:/Users/karun/Downloads/Kalaignar Karunanidhi.txt\",\"r\") as Mk:\n",
    "    l = Mk.read()\n",
    "    print(l)"
   ]
  },
  {
   "cell_type": "code",
   "execution_count": 54,
   "id": "35e0db75",
   "metadata": {},
   "outputs": [
    {
     "data": {
      "text/plain": [
       "True"
      ]
     },
     "execution_count": 54,
     "metadata": {},
     "output_type": "execute_result"
    }
   ],
   "source": [
    "Mk.closed"
   ]
  },
  {
   "cell_type": "code",
   "execution_count": 55,
   "id": "603bac42",
   "metadata": {},
   "outputs": [
    {
     "data": {
      "text/plain": [
       "True"
      ]
     },
     "execution_count": 55,
     "metadata": {},
     "output_type": "execute_result"
    }
   ],
   "source": [
    "Kalaignar.closed"
   ]
  },
  {
   "cell_type": "code",
   "execution_count": 57,
   "id": "2daff45b",
   "metadata": {},
   "outputs": [
    {
     "data": {
      "text/plain": [
       "True"
      ]
     },
     "execution_count": 57,
     "metadata": {},
     "output_type": "execute_result"
    }
   ],
   "source": [
    "f1.closed"
   ]
  },
  {
   "cell_type": "code",
   "execution_count": 65,
   "id": "93c78c94",
   "metadata": {},
   "outputs": [
    {
     "name": "stdout",
     "output_type": "stream",
     "text": [
      "Dream\n",
      " of the \n"
     ]
    }
   ],
   "source": [
    "with open(\"Dream of the Democrat.txt\",\"r\") as Anna:\n",
    "    print(Anna.read(5))\n",
    "    print(Anna.read(8))"
   ]
  },
  {
   "cell_type": "code",
   "execution_count": 70,
   "id": "003d7522",
   "metadata": {},
   "outputs": [
    {
     "name": "stdout",
     "output_type": "stream",
     "text": [
      "Quotes:Dream of the Democrat\n",
      "\n"
     ]
    }
   ],
   "source": [
    "with open(\"Dream of the Democrat.txt\",\"r\") as Anna:\n",
    "    print(\"Quotes:\" + Anna.readline())"
   ]
  },
  {
   "cell_type": "code",
   "execution_count": 75,
   "id": "cfdb6eef",
   "metadata": {},
   "outputs": [
    {
     "name": "stdout",
     "output_type": "stream",
     "text": [
      "Line 0 : Dream of the Democrat\n",
      "\n",
      "Line 1 : \"The essence of democracy is humility\"\n",
      "\n",
      "Line 2 : Soul of Nation\n",
      "\n",
      "Line 3 : Rupee is sick\n",
      "\n",
      "Line 4 : A noble cause\n",
      "\n",
      "Line 5 : Behind the bars\n"
     ]
    }
   ],
   "source": [
    "with open(\"Dream of the Democrat.txt\",\"r\") as Anna:\n",
    "    i = 0;\n",
    "    for Quote in Anna:\n",
    "        print(\"Line\",str(i),\":\",Quote)\n",
    "        i = i + 1"
   ]
  },
  {
   "cell_type": "code",
   "execution_count": 76,
   "id": "44bea5f4",
   "metadata": {},
   "outputs": [],
   "source": [
    "with open(\"Dream of the Democrat.txt\",\"r\") as Anna:\n",
    "    h = Anna.readlines()"
   ]
  },
  {
   "cell_type": "code",
   "execution_count": 77,
   "id": "143425c8",
   "metadata": {},
   "outputs": [
    {
     "data": {
      "text/plain": [
       "'Dream of the Democrat\\n'"
      ]
     },
     "execution_count": 77,
     "metadata": {},
     "output_type": "execute_result"
    }
   ],
   "source": [
    "h[0]"
   ]
  },
  {
   "cell_type": "code",
   "execution_count": 78,
   "id": "43e77019",
   "metadata": {},
   "outputs": [
    {
     "data": {
      "text/plain": [
       "'\"The essence of democracy is humility\"\\n'"
      ]
     },
     "execution_count": 78,
     "metadata": {},
     "output_type": "execute_result"
    }
   ],
   "source": [
    "h[1]"
   ]
  },
  {
   "cell_type": "code",
   "execution_count": 80,
   "id": "c5270673",
   "metadata": {},
   "outputs": [
    {
     "data": {
      "text/plain": [
       "'Soul of Nation\\n'"
      ]
     },
     "execution_count": 80,
     "metadata": {},
     "output_type": "execute_result"
    }
   ],
   "source": [
    "h[2]"
   ]
  },
  {
   "cell_type": "code",
   "execution_count": null,
   "id": "03fe2f3a",
   "metadata": {},
   "outputs": [],
   "source": []
  }
 ],
 "metadata": {
  "kernelspec": {
   "display_name": "Python 3 (ipykernel)",
   "language": "python",
   "name": "python3"
  },
  "language_info": {
   "codemirror_mode": {
    "name": "ipython",
    "version": 3
   },
   "file_extension": ".py",
   "mimetype": "text/x-python",
   "name": "python",
   "nbconvert_exporter": "python",
   "pygments_lexer": "ipython3",
   "version": "3.10.9"
  }
 },
 "nbformat": 4,
 "nbformat_minor": 5
}
