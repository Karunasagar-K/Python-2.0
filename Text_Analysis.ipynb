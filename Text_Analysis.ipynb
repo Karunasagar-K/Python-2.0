{
 "cells": [
  {
   "cell_type": "code",
   "execution_count": 1,
   "id": "c550ac7c",
   "metadata": {},
   "outputs": [],
   "source": [
    "givenstring = \"It was on 3rd Feb 1969 that the entire population of Tamilnadu literally crowded into Madras city. It was on that day that the news of the demise of our revered leader 'Anna' reached the nook and corner of Tamilnadu, and came as a shock to each and every individual. \""
   ]
  },
  {
   "cell_type": "code",
   "execution_count": 2,
   "id": "9f2e7ef0",
   "metadata": {},
   "outputs": [],
   "source": [
    "# Press Shift+Enter to run the code.\n",
    "class TextAnalzer(object):\n",
    "    \n",
    "    def __init__ (self, text):\n",
    "        # remove punctuation\n",
    "        formattedText = text.replace('.','').replace('!','').replace('?','').replace(',','')\n",
    "        \n",
    "        # make text lowercase\n",
    "        formattedText = formattedText.lower()\n",
    "        \n",
    "        self.fmtText = formattedText"
   ]
  },
  {
   "cell_type": "code",
   "execution_count": 3,
   "id": "715ce13a",
   "metadata": {},
   "outputs": [],
   "source": [
    "#Press shift+Enter to run the code\n",
    "class TextAnalyzer(object):\n",
    "    \n",
    "    def __init__ (self, text):\n",
    "        # remove punctuation\n",
    "        formattedText = text.replace('.','').replace('!','').replace('?','').replace(',','')\n",
    "        \n",
    "        # make text lowercase\n",
    "        formattedText = formattedText.lower()\n",
    "        \n",
    "        self.fmtText = formattedText\n",
    "        \n",
    "    def freqAll(self):        \n",
    "        # split text into words\n",
    "        wordList = self.fmtText.split(' ')\n",
    "        \n",
    "        # Create dictionary\n",
    "        freqMap = {}\n",
    "        for word in set(wordList): # use set to remove duplicates in list\n",
    "            freqMap[word] = wordList.count(word)\n",
    "        \n",
    "        return freqMap"
   ]
  },
  {
   "cell_type": "code",
   "execution_count": 4,
   "id": "32ff885c",
   "metadata": {},
   "outputs": [],
   "source": [
    "#Press Shift+Enter to run the code\n",
    "class TextAnalyzer(object):\n",
    "    \n",
    "    def __init__ (self, text):\n",
    "        # remove punctuation\n",
    "        formattedText = text.replace('.','').replace('!','').replace('?','').replace(',','')\n",
    "        \n",
    "        # make text lowercase\n",
    "        formattedText = formattedText.lower()\n",
    "        \n",
    "        self.fmtText = formattedText\n",
    "        \n",
    "    def freqAll(self):        \n",
    "        # split text into words\n",
    "        wordList = self.fmtText.split(' ')\n",
    "        \n",
    "        # Create dictionary\n",
    "        freqMap = {}\n",
    "        for word in set(wordList): # use set to remove duplicates in list\n",
    "            freqMap[word] = wordList.count(word)\n",
    "        \n",
    "        return freqMap\n",
    "    \n",
    "    def freqOf(self,word):\n",
    "        # get frequency map\n",
    "        freqDict = self.freqAll()\n",
    "        \n",
    "        if word in freqDict:\n",
    "            return freqDict[word]\n",
    "        else:\n",
    "            return 0"
   ]
  },
  {
   "cell_type": "code",
   "execution_count": 5,
   "id": "02932bca",
   "metadata": {},
   "outputs": [],
   "source": [
    "# type your code here\n",
    "analyzed = TextAnalyzer(givenstring)"
   ]
  },
  {
   "cell_type": "code",
   "execution_count": 6,
   "id": "d30edf43",
   "metadata": {},
   "outputs": [
    {
     "name": "stdout",
     "output_type": "stream",
     "text": [
      "Formatted Text: it was on 3rd feb 1969 that the entire population of tamilnadu literally crowded into madras city it was on that day that the news of the demise of our revered leader 'anna' reached the nook and corner of tamilnadu and came as a shock to each and every individual \n"
     ]
    }
   ],
   "source": [
    "# Press Shift+Enter to run the code.\n",
    "print(\"Formatted Text:\", analyzed.fmtText)"
   ]
  },
  {
   "cell_type": "code",
   "execution_count": 7,
   "id": "f5af3b25",
   "metadata": {},
   "outputs": [
    {
     "name": "stdout",
     "output_type": "stream",
     "text": [
      "{'': 1, 'each': 1, 'it': 2, 'on': 2, 'day': 1, 'and': 3, 'the': 4, 'city': 1, 'leader': 1, 'corner': 1, 'into': 1, 'was': 2, \"'anna'\": 1, 'to': 1, 'madras': 1, 'population': 1, 'as': 1, '1969': 1, 'nook': 1, 'tamilnadu': 2, 'demise': 1, 'every': 1, 'individual': 1, 'our': 1, 'of': 4, 'that': 3, 'reached': 1, 'news': 1, 'came': 1, '3rd': 1, 'a': 1, 'entire': 1, 'crowded': 1, 'revered': 1, 'literally': 1, 'shock': 1, 'feb': 1}\n"
     ]
    }
   ],
   "source": [
    "# Press Shift+Enter to run the code.\n",
    "freqMap = analyzed.freqAll()\n",
    "print(freqMap)"
   ]
  },
  {
   "cell_type": "code",
   "execution_count": 8,
   "id": "661dde6a",
   "metadata": {},
   "outputs": [
    {
     "name": "stdout",
     "output_type": "stream",
     "text": [
      "The word Anna appears 0 times.\n"
     ]
    }
   ],
   "source": [
    "# type your code here\n",
    "word = \"Anna\"\n",
    "frequency = analyzed.freqOf(word)\n",
    "print(\"The word\",word,\"appears\",frequency,\"times.\")"
   ]
  }
 ],
 "metadata": {
  "kernelspec": {
   "display_name": "Python 3 (ipykernel)",
   "language": "python",
   "name": "python3"
  },
  "language_info": {
   "codemirror_mode": {
    "name": "ipython",
    "version": 3
   },
   "file_extension": ".py",
   "mimetype": "text/x-python",
   "name": "python",
   "nbconvert_exporter": "python",
   "pygments_lexer": "ipython3",
   "version": "3.10.9"
  }
 },
 "nbformat": 4,
 "nbformat_minor": 5
}
